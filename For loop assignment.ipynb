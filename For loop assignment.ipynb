{
 "cells": [
  {
   "cell_type": "markdown",
   "id": "f11509ad",
   "metadata": {},
   "source": [
    "## For Loop\n",
    "\n",
    "## Assignment Questions"
   ]
  },
  {
   "cell_type": "markdown",
   "id": "7bcec053",
   "metadata": {},
   "source": [
    "Basic Level"
   ]
  },
  {
   "cell_type": "markdown",
   "id": "5486ed77",
   "metadata": {},
   "source": [
    "1. Write a Python program to print the numbers from 1 to 10 using a `for` loop."
   ]
  },
  {
   "cell_type": "code",
   "execution_count": 2,
   "id": "17aa5450",
   "metadata": {},
   "outputs": [
    {
     "name": "stdout",
     "output_type": "stream",
     "text": [
      "1\n",
      "2\n",
      "3\n",
      "4\n",
      "5\n",
      "6\n",
      "7\n",
      "8\n",
      "9\n",
      "10\n"
     ]
    }
   ],
   "source": [
    "for i in range(1,11):\n",
    "    print(i)"
   ]
  },
  {
   "cell_type": "markdown",
   "id": "4707d07e",
   "metadata": {},
   "source": [
    "2. Create a program that calculates the sum of all numbers in a list using a `for` loop.\n"
   ]
  },
  {
   "cell_type": "code",
   "execution_count": 27,
   "id": "abbc57e5",
   "metadata": {},
   "outputs": [
    {
     "name": "stdout",
     "output_type": "stream",
     "text": [
      "21\n"
     ]
    }
   ],
   "source": [
    "l = [1,2,3,4,5,6]\n",
    "sum = 0\n",
    "for i in l:\n",
    "    sum = sum + i\n",
    "print(sum)\n",
    "   "
   ]
  },
  {
   "cell_type": "markdown",
   "id": "e8c4d90f",
   "metadata": {},
   "source": [
    "3. Write a program to print the characters of a string in reverse order using a `for` loop."
   ]
  },
  {
   "cell_type": "code",
   "execution_count": 36,
   "id": "510f3bac",
   "metadata": {},
   "outputs": [
    {
     "name": "stdout",
     "output_type": "stream",
     "text": [
      "enter a string: pwskills\n",
      "sllikswp\n"
     ]
    }
   ],
   "source": [
    "a = input('enter a string: ')\n",
    "for i in a:\n",
    "    s = a[::-1]\n",
    "print(s)"
   ]
  },
  {
   "cell_type": "markdown",
   "id": "d20e393b",
   "metadata": {},
   "source": [
    "4. Develop a program that finds the factorial of a given number using a `for` loop."
   ]
  },
  {
   "cell_type": "code",
   "execution_count": 46,
   "id": "6ae18be8",
   "metadata": {},
   "outputs": [
    {
     "name": "stdout",
     "output_type": "stream",
     "text": [
      "120\n"
     ]
    }
   ],
   "source": [
    "n = 5\n",
    "factorial = 1\n",
    "for i in range(1,n + 1):\n",
    "    factorial = factorial * i \n",
    "print(factorial)"
   ]
  },
  {
   "cell_type": "code",
   "execution_count": null,
   "id": "396aaeee",
   "metadata": {},
   "outputs": [],
   "source": [
    "5. Create a program to print the multiplication table of a given number using a `for` loop."
   ]
  },
  {
   "cell_type": "code",
   "execution_count": 73,
   "id": "a7bbdf88",
   "metadata": {},
   "outputs": [
    {
     "name": "stdout",
     "output_type": "stream",
     "text": [
      "The multiplication table of 2\n",
      "2 x 1 = 2\n",
      "2 x 2 = 4\n",
      "2 x 3 = 6\n",
      "2 x 4 = 8\n",
      "2 x 5 = 10\n",
      "2 x 6 = 12\n",
      "2 x 7 = 14\n",
      "2 x 8 = 16\n",
      "2 x 9 = 18\n",
      "2 x 10 = 20\n"
     ]
    }
   ],
   "source": [
    "n =  2\n",
    "print('The multiplication table of', n )\n",
    "for i in range(1,11):\n",
    "    print(n, 'x', i, '=', n*i)\n",
    "    \n",
    "\n",
    "    "
   ]
  },
  {
   "cell_type": "markdown",
   "id": "0128de78",
   "metadata": {},
   "source": [
    "6. Write a program that counts the number of even and odd numbers in a list using a `for` loop."
   ]
  },
  {
   "cell_type": "code",
   "execution_count": 84,
   "id": "787644cc",
   "metadata": {},
   "outputs": [
    {
     "name": "stdout",
     "output_type": "stream",
     "text": [
      "The count of even numbers in a given list is : 7\n",
      "The count of odd numbers in a given list is : 4\n"
     ]
    }
   ],
   "source": [
    "count_even = 0\n",
    "count_odd = 0\n",
    "l = [10,2,4,56,79,34,33,20,16,9,7]\n",
    "for i in l:\n",
    "    if i%2 == 0:\n",
    "        count_even += 1\n",
    "    else:\n",
    "        count_odd +=1\n",
    "print('The count of even numbers in a given list is :', count_even)\n",
    "print('The count of odd numbers in a given list is :', count_odd)\n",
    "\n",
    "       "
   ]
  },
  {
   "cell_type": "markdown",
   "id": "108e56d8",
   "metadata": {},
   "source": [
    "7. Develop a program that prints the squares of numbers from 1 to 5 using a `for` loop."
   ]
  },
  {
   "cell_type": "code",
   "execution_count": 99,
   "id": "b999948b",
   "metadata": {},
   "outputs": [
    {
     "name": "stdout",
     "output_type": "stream",
     "text": [
      "The squares of numbers from 1 to 5 is :\n",
      "1\n",
      "4\n",
      "9\n",
      "16\n",
      "25\n"
     ]
    }
   ],
   "source": [
    "print('The squares of numbers from 1 to 5 is :')\n",
    "for i in range(1,6):\n",
    "    print(i*i)\n",
    "    "
   ]
  },
  {
   "cell_type": "markdown",
   "id": "7c2c79cb",
   "metadata": {},
   "source": [
    "8. Create a program to find the length of a string without using the `len()` function."
   ]
  },
  {
   "cell_type": "code",
   "execution_count": 114,
   "id": "7ab1682a",
   "metadata": {},
   "outputs": [
    {
     "name": "stdout",
     "output_type": "stream",
     "text": [
      "The length of a string is : 12\n"
     ]
    }
   ],
   "source": [
    "s = 'pwskills lab'\n",
    "len_string= 0\n",
    "for i in s:\n",
    "    len_string += 1\n",
    "print('The length of a string is :', len_string)\n",
    "    "
   ]
  },
  {
   "cell_type": "markdown",
   "id": "0e6966c6",
   "metadata": {},
   "source": [
    "9. Write a program that calculates the average of a list of numbers using a `for` loop."
   ]
  },
  {
   "cell_type": "code",
   "execution_count": 120,
   "id": "784c2b7e",
   "metadata": {},
   "outputs": [
    {
     "name": "stdout",
     "output_type": "stream",
     "text": [
      "The average of a given list is: 35.0\n"
     ]
    }
   ],
   "source": [
    "l = [10,20,30,40,50,60]\n",
    "sum = 0\n",
    "count = 0\n",
    "for i in l:\n",
    "    sum = sum + i\n",
    "    count = count + 1\n",
    "    Average = sum/count\n",
    "print('The average of a given list is:', Average)\n",
    "    \n",
    "    \n",
    "    "
   ]
  },
  {
   "cell_type": "markdown",
   "id": "dec70cfd",
   "metadata": {},
   "source": [
    "10. Develop a program that prints the first `n` Fibonacci numbers using a `for` loop."
   ]
  },
  {
   "cell_type": "code",
   "execution_count": 151,
   "id": "bb9aeeca",
   "metadata": {},
   "outputs": [
    {
     "name": "stdout",
     "output_type": "stream",
     "text": [
      "The fibonacci of a numbers is :  8\n"
     ]
    }
   ],
   "source": [
    "a = 0\n",
    "b = 1\n",
    "n = 6\n",
    "for i in range(n):\n",
    "    a,b = b,a+b\n",
    "print('The fibonacci of a numbers is : ',a)"
   ]
  },
  {
   "cell_type": "markdown",
   "id": "d91f3411",
   "metadata": {},
   "source": [
    "## Intermediate Level:"
   ]
  },
  {
   "cell_type": "markdown",
   "id": "385dcbd1",
   "metadata": {},
   "source": [
    "11. Write a program to check if a given list contains any duplicates using a `for` loop."
   ]
  },
  {
   "cell_type": "code",
   "execution_count": 179,
   "id": "df023d51",
   "metadata": {},
   "outputs": [
    {
     "name": "stdout",
     "output_type": "stream",
     "text": [
      "The list contains duplicates\n",
      "[1]\n"
     ]
    }
   ],
   "source": [
    "lst =[1,2,3,4,6,1]\n",
    "unique_list = []\n",
    "duplicate_list = []\n",
    "for i in lst:\n",
    "    if i not in unique_list:\n",
    "        unique_list.append(i)\n",
    "    elif i not in duplicate_list:\n",
    "        duplicate_list.append(i)\n",
    "        print('The list contains duplicates')\n",
    "        \n",
    "print(duplicate_list)\n",
    "\n",
    "\n",
    "\n",
    "        "
   ]
  },
  {
   "cell_type": "markdown",
   "id": "5edc5cf0",
   "metadata": {},
   "source": [
    "12. Create a program that prints the prime numbers in a given range using a `for` loop."
   ]
  },
  {
   "cell_type": "code",
   "execution_count": 185,
   "id": "5225793e",
   "metadata": {},
   "outputs": [
    {
     "name": "stdout",
     "output_type": "stream",
     "text": [
      "[2, 3, 5, 7]\n"
     ]
    }
   ],
   "source": [
    "prime_list = []\n",
    "for i in range(,11):\n",
    "    if i == 0 or i == 1:\n",
    "        continue\n",
    "    else:\n",
    "        for j in range(2, int(i/2)+1):\n",
    "            if i%j == 0:\n",
    "                break\n",
    "        else:\n",
    "            prime_list.append(i)\n",
    "print(prime_list)\n",
    "    "
   ]
  },
  {
   "cell_type": "markdown",
   "id": "3e165171",
   "metadata": {},
   "source": [
    "13. Develop a program that counts the number of vowels in a string using a `for` loop."
   ]
  },
  {
   "cell_type": "code",
   "execution_count": 6,
   "id": "d58119ec",
   "metadata": {},
   "outputs": [
    {
     "name": "stdout",
     "output_type": "stream",
     "text": [
      "Enter a string : apple is a fruit\n",
      "6\n"
     ]
    }
   ],
   "source": [
    "str = input(\"Enter a string : \")\n",
    "vowel = 0\n",
    "\n",
    "for i in str:\n",
    "    if i in 'aeiou':\n",
    "        vowel += 1\n",
    "print(vowel)"
   ]
  },
  {
   "cell_type": "markdown",
   "id": "df5131c9",
   "metadata": {},
   "source": [
    "14. Write a program to find the maximum element in a 2D list using a nested `for` loop."
   ]
  },
  {
   "cell_type": "code",
   "execution_count": 1,
   "id": "7b7e7341",
   "metadata": {},
   "outputs": [
    {
     "name": "stdout",
     "output_type": "stream",
     "text": [
      "[60, 78]\n"
     ]
    }
   ],
   "source": [
    "lst = [[5,6,3,60],[78,12,45,66,9]]\n",
    "\n",
    "max_lst = []\n",
    "\n",
    "for i in lst:\n",
    "    max_lst.append(max(i))\n",
    "    \n",
    "print(max_lst)"
   ]
  },
  {
   "cell_type": "markdown",
   "id": "67c5de46",
   "metadata": {},
   "source": [
    "15. Create a program that removes all occurrences of a specific element from a list using a `for` loop."
   ]
  },
  {
   "cell_type": "code",
   "execution_count": 17,
   "id": "f93479fe",
   "metadata": {},
   "outputs": [
    {
     "name": "stdout",
     "output_type": "stream",
     "text": [
      "List after removing an element is :  [20, 30, 40, 50, 60]\n"
     ]
    }
   ],
   "source": [
    "a = [10,20,30,40,10,50,10,60]\n",
    "n = 10\n",
    "for i in a:\n",
    "    if i == n:\n",
    "        a.remove(i)\n",
    "print('List after removing an element is : ', a)"
   ]
  },
  {
   "cell_type": "code",
   "execution_count": null,
   "id": "9ceb74d7",
   "metadata": {},
   "outputs": [],
   "source": [
    "16. Develop a program that generates a multiplication table for numbers from 1 to 5 using a nested `for` loop."
   ]
  },
  {
   "cell_type": "code",
   "execution_count": 35,
   "id": "2bfc99ba",
   "metadata": {},
   "outputs": [
    {
     "name": "stdout",
     "output_type": "stream",
     "text": [
      "The multiplication table for 1\n",
      "1 * 1 = 1\n",
      "1 * 2 = 2\n",
      "1 * 3 = 3\n",
      "1 * 4 = 4\n",
      "1 * 5 = 5\n",
      "1 * 6 = 6\n",
      "1 * 7 = 7\n",
      "1 * 8 = 8\n",
      "1 * 9 = 9\n",
      "1 * 10 = 10\n",
      "The multiplication table for 2\n",
      "2 * 1 = 2\n",
      "2 * 2 = 4\n",
      "2 * 3 = 6\n",
      "2 * 4 = 8\n",
      "2 * 5 = 10\n",
      "2 * 6 = 12\n",
      "2 * 7 = 14\n",
      "2 * 8 = 16\n",
      "2 * 9 = 18\n",
      "2 * 10 = 20\n",
      "The multiplication table for 3\n",
      "3 * 1 = 3\n",
      "3 * 2 = 6\n",
      "3 * 3 = 9\n",
      "3 * 4 = 12\n",
      "3 * 5 = 15\n",
      "3 * 6 = 18\n",
      "3 * 7 = 21\n",
      "3 * 8 = 24\n",
      "3 * 9 = 27\n",
      "3 * 10 = 30\n",
      "The multiplication table for 4\n",
      "4 * 1 = 4\n",
      "4 * 2 = 8\n",
      "4 * 3 = 12\n",
      "4 * 4 = 16\n",
      "4 * 5 = 20\n",
      "4 * 6 = 24\n",
      "4 * 7 = 28\n",
      "4 * 8 = 32\n",
      "4 * 9 = 36\n",
      "4 * 10 = 40\n",
      "The multiplication table for 5\n",
      "5 * 1 = 5\n",
      "5 * 2 = 10\n",
      "5 * 3 = 15\n",
      "5 * 4 = 20\n",
      "5 * 5 = 25\n",
      "5 * 6 = 30\n",
      "5 * 7 = 35\n",
      "5 * 8 = 40\n",
      "5 * 9 = 45\n",
      "5 * 10 = 50\n"
     ]
    }
   ],
   "source": [
    "for i in range(1,6):\n",
    "    print('The multiplication table for', i)\n",
    "    for j in range(1,11):\n",
    "        print(i, '*', j, '=', i*j)\n",
    "        "
   ]
  },
  {
   "cell_type": "markdown",
   "id": "96b0dab7",
   "metadata": {},
   "source": [
    "17. Write a program that converts a list of Fahrenheit temperatures to Celsius using a `for` loop."
   ]
  },
  {
   "cell_type": "code",
   "execution_count": 40,
   "id": "3d7cfde8",
   "metadata": {},
   "outputs": [
    {
     "name": "stdout",
     "output_type": "stream",
     "text": [
      "Temperature in celsius is :  [-4.444444444444445, 6.666666666666667, 12.222222222222221, 23.88888888888889, -6.111111111111111, 0.0]\n"
     ]
    }
   ],
   "source": [
    "fahrenheit_list = [24,44,54,75,21,32]\n",
    "celsius_list = []\n",
    "\n",
    "for i in fahrenheit_list:\n",
    "    z = ((i-32)*5)/9\n",
    "    celsius_list.append(z)\n",
    "print('Temperature in celsius is : ', celsius_list)\n",
    "    \n",
    "    "
   ]
  },
  {
   "cell_type": "markdown",
   "id": "1b75e639",
   "metadata": {},
   "source": [
    "18. Create a program to print the common elements from two lists using a `for` loop."
   ]
  },
  {
   "cell_type": "code",
   "execution_count": 45,
   "id": "dba8f017",
   "metadata": {},
   "outputs": [
    {
     "name": "stdout",
     "output_type": "stream",
     "text": [
      "[1, 6, 8, 10]\n"
     ]
    }
   ],
   "source": [
    "lst_1 = [1,3,6,8,2,7,9,10]\n",
    "lst_2 = [4,8,6,1,10]\n",
    "lst_3 = []\n",
    "\n",
    "for i in lst_1:\n",
    "    for j in lst_2:\n",
    "        if i == j:\n",
    "            lst_3.append(i)\n",
    "print(lst_3)"
   ]
  },
  {
   "cell_type": "markdown",
   "id": "fcb64fc8",
   "metadata": {},
   "source": [
    "19. Develop a program that prints the pattern of right-angled triangles using a `for` loop. Use ‘*’ to draw the pattern"
   ]
  },
  {
   "cell_type": "code",
   "execution_count": 61,
   "id": "3bcf8b0a",
   "metadata": {},
   "outputs": [
    {
     "name": "stdout",
     "output_type": "stream",
     "text": [
      "*\n",
      "**\n",
      "***\n",
      "****\n",
      "*****\n",
      "******\n"
     ]
    }
   ],
   "source": [
    "n = 6\n",
    "\n",
    "for i in range(n):\n",
    "    for j in range(i+1):\n",
    "        print('*',end = '')\n",
    "    print('')"
   ]
  },
  {
   "cell_type": "markdown",
   "id": "0d716b35",
   "metadata": {},
   "source": [
    "20. Write a program to find the greatest common divisor (GCD) of two numbers using a `for` loop."
   ]
  },
  {
   "cell_type": "code",
   "execution_count": 62,
   "id": "d883bd93",
   "metadata": {},
   "outputs": [
    {
     "name": "stdout",
     "output_type": "stream",
     "text": [
      "GCD of 36 and 60 is 12\n"
     ]
    }
   ],
   "source": [
    "#GCD is largest positive ibnteger that divides two numbers without leaving any remainder.\n",
    "\n",
    "num_1 = 36\n",
    "num_2 = 60\n",
    "gcd = 1\n",
    "\n",
    "for i in range(1,min(num_1,num_2)):\n",
    "    if num_1 % i == 0 and num_2 % i == 0:\n",
    "        gcd = i\n",
    "print(\"GCD of\", num_1, \"and\", num_2, \"is\", gcd)"
   ]
  },
  {
   "cell_type": "code",
   "execution_count": null,
   "id": "d2810936",
   "metadata": {},
   "outputs": [],
   "source": []
  },
  {
   "cell_type": "markdown",
   "id": "9307cea5",
   "metadata": {},
   "source": [
    "## Advanced Level:"
   ]
  },
  {
   "cell_type": "markdown",
   "id": "196c9775",
   "metadata": {},
   "source": [
    "21. Create a program that calculates the sum of the digits of numbers in a list using a list comprehension."
   ]
  },
  {
   "cell_type": "code",
   "execution_count": 1,
   "id": "ef060d8a",
   "metadata": {},
   "outputs": [
    {
     "name": "stdout",
     "output_type": "stream",
     "text": [
      "[6, 15, 24, 2]\n"
     ]
    }
   ],
   "source": [
    "# List of numbers\n",
    "numbers = [123, 456, 789, 101]\n",
    "\n",
    "# Using list comprehension to calculate the sum of the digits of each number\n",
    "sum_of_digits = [sum(int(digit) for digit in str(num)) for num in numbers]\n",
    "\n",
    "print(sum_of_digits)\n"
   ]
  },
  {
   "cell_type": "markdown",
   "id": "35dcb0e9",
   "metadata": {},
   "source": [
    "22. Write a program to find the prime factors of a given number using a `for` loop and list comprehension."
   ]
  },
  {
   "cell_type": "code",
   "execution_count": 2,
   "id": "8c5e3b5f",
   "metadata": {},
   "outputs": [
    {
     "name": "stdout",
     "output_type": "stream",
     "text": [
      "Prime factors of 56: [2, 2, 2, 7]\n"
     ]
    }
   ],
   "source": [
    "# Function to find prime factors\n",
    "def prime_factors(n):\n",
    "    factors = []\n",
    "    # First, find the number of 2s that divide n\n",
    "    while n % 2 == 0:\n",
    "        factors.append(2)\n",
    "        n = n // 2\n",
    "\n",
    "    # n must be odd at this point, so we can skip even numbers\n",
    "    for i in range(3, int(n**0.5) + 1, 2):\n",
    "        while n % i == 0:\n",
    "            factors.append(i)\n",
    "            n = n // i\n",
    "\n",
    "    # This condition is to check if n is a prime number greater than 2\n",
    "    if n > 2:\n",
    "        factors.append(n)\n",
    "\n",
    "    return factors\n",
    "\n",
    "# Input number\n",
    "number = 56\n",
    "\n",
    "# Get prime factors using list comprehension\n",
    "prime_factors_list = [factor for factor in prime_factors(number)]\n",
    "\n",
    "print(f\"Prime factors of {number}: {prime_factors_list}\")\n"
   ]
  },
  {
   "cell_type": "markdown",
   "id": "c085ecd1",
   "metadata": {},
   "source": [
    "23. Develop a program that extracts unique elements from a list and stores them in a new list using a list\n",
    "comprehension."
   ]
  },
  {
   "cell_type": "code",
   "execution_count": 3,
   "id": "dee66fe8",
   "metadata": {},
   "outputs": [
    {
     "name": "stdout",
     "output_type": "stream",
     "text": [
      "List of unique elements: [1, 3, 5, 7, 9]\n"
     ]
    }
   ],
   "source": [
    "# Input list with duplicate elements\n",
    "input_list = [1, 2, 2, 3, 4, 4, 5, 6, 6, 7, 8, 8, 9]\n",
    "\n",
    "# Using list comprehension to extract unique elements\n",
    "unique_list = [element for element in input_list if input_list.count(element) == 1]\n",
    "\n",
    "print(\"List of unique elements:\", unique_list)\n"
   ]
  },
  {
   "cell_type": "markdown",
   "id": "2045e86d",
   "metadata": {},
   "source": [
    "24. Create a program that generates a list of all palindromic numbers up to a specified limit using a list\n",
    "comprehension."
   ]
  },
  {
   "cell_type": "code",
   "execution_count": 4,
   "id": "d95c50e1",
   "metadata": {},
   "outputs": [
    {
     "name": "stdout",
     "output_type": "stream",
     "text": [
      "Palindromic numbers up to 200 : [0, 1, 2, 3, 4, 5, 6, 7, 8, 9, 11, 22, 33, 44, 55, 66, 77, 88, 99, 101, 111, 121, 131, 141, 151, 161, 171, 181, 191]\n"
     ]
    }
   ],
   "source": [
    "# Function to check if a number is a palindrome\n",
    "def is_palindrome(n):\n",
    "    return str(n) == str(n)[::-1]\n",
    "\n",
    "# Specified limit\n",
    "limit = 200\n",
    "\n",
    "# Using list comprehension to find all palindromic numbers up to the limit\n",
    "palindromic_numbers = [num for num in range(limit + 1) if is_palindrome(num)]\n",
    "\n",
    "print(\"Palindromic numbers up to\", limit, \":\", palindromic_numbers)\n"
   ]
  },
  {
   "cell_type": "markdown",
   "id": "f411e934",
   "metadata": {},
   "source": [
    "25. Write a program to flatten a nested list using list comprehension."
   ]
  },
  {
   "cell_type": "code",
   "execution_count": 5,
   "id": "f79d5903",
   "metadata": {},
   "outputs": [
    {
     "name": "stdout",
     "output_type": "stream",
     "text": [
      "Flattened list: [1, 2, 3, 4, 5, 6, 7, 8, 9]\n"
     ]
    }
   ],
   "source": [
    "# Nested list\n",
    "nested_list = [[1, 2, 3], [4, 5], [6, 7, 8], [9]]\n",
    "\n",
    "# Using list comprehension to flatten the nested list\n",
    "flattened_list = [item for sublist in nested_list for item in sublist]\n",
    "\n",
    "print(\"Flattened list:\", flattened_list)\n"
   ]
  },
  {
   "cell_type": "markdown",
   "id": "7b47ef15",
   "metadata": {},
   "source": [
    "26. Develop a program that computes the sum of even and odd numbers in a list separately using list\n",
    "comprehension."
   ]
  },
  {
   "cell_type": "code",
   "execution_count": 6,
   "id": "d2dc4cbd",
   "metadata": {},
   "outputs": [
    {
     "name": "stdout",
     "output_type": "stream",
     "text": [
      "Sum of even numbers: 30\n",
      "Sum of odd numbers: 25\n"
     ]
    }
   ],
   "source": [
    "# Input list of numbers\n",
    "numbers = [1, 2, 3, 4, 5, 6, 7, 8, 9, 10]\n",
    "\n",
    "# Using list comprehension to find the sum of even numbers\n",
    "sum_even = sum([num for num in numbers if num % 2 == 0])\n",
    "\n",
    "# Using list comprehension to find the sum of odd numbers\n",
    "sum_odd = sum([num for num in numbers if num % 2 != 0])\n",
    "\n",
    "print(\"Sum of even numbers:\", sum_even)\n",
    "print(\"Sum of odd numbers:\", sum_odd)\n"
   ]
  },
  {
   "cell_type": "markdown",
   "id": "42791657",
   "metadata": {},
   "source": [
    "27. Create a program that generates a list of squares of odd numbers between 1 and 10 using list\n",
    "comprehension."
   ]
  },
  {
   "cell_type": "code",
   "execution_count": 7,
   "id": "d94a4a17",
   "metadata": {},
   "outputs": [
    {
     "name": "stdout",
     "output_type": "stream",
     "text": [
      "Squares of odd numbers between 1 and 10: [1, 9, 25, 49, 81]\n"
     ]
    }
   ],
   "source": [
    "# Using list comprehension to generate squares of odd numbers between 1 and 10\n",
    "squares_of_odd_numbers = [num**2 for num in range(1, 11) if num % 2 != 0]\n",
    "\n",
    "print(\"Squares of odd numbers between 1 and 10:\", squares_of_odd_numbers)\n"
   ]
  },
  {
   "cell_type": "markdown",
   "id": "1b91d6ec",
   "metadata": {},
   "source": [
    "28. Write a program that combines two lists into a dictionary using list comprehension."
   ]
  },
  {
   "cell_type": "code",
   "execution_count": 8,
   "id": "210d80c9",
   "metadata": {},
   "outputs": [
    {
     "name": "stdout",
     "output_type": "stream",
     "text": [
      "Combined dictionary: {'name': 'Alice', 'age': 30, 'city': 'New York'}\n"
     ]
    }
   ],
   "source": [
    "# Two lists to combine\n",
    "keys = ['name', 'age', 'city']\n",
    "values = ['Alice', 30, 'New York']\n",
    "\n",
    "# Using list comprehension to combine lists into a dictionary\n",
    "combined_dict = {keys[i]: values[i] for i in range(len(keys))}\n",
    "\n",
    "print(\"Combined dictionary:\", combined_dict)\n"
   ]
  },
  {
   "cell_type": "markdown",
   "id": "8ed537a7",
   "metadata": {},
   "source": [
    "29. Develop a program that extracts the vowels from a string and stores them in a list using list comprehension."
   ]
  },
  {
   "cell_type": "code",
   "execution_count": 9,
   "id": "f0607fb7",
   "metadata": {},
   "outputs": [
    {
     "name": "stdout",
     "output_type": "stream",
     "text": [
      "List of vowels: ['e', 'o', 'o', 'a', 'e', 'o', 'u']\n"
     ]
    }
   ],
   "source": [
    "# Input string\n",
    "input_string = \"Hello, how are you?\"\n",
    "\n",
    "# Using list comprehension to extract vowels\n",
    "vowels = [char for char in input_string if char.lower() in 'aeiou']\n",
    "\n",
    "print(\"List of vowels:\", vowels)\n"
   ]
  },
  {
   "cell_type": "markdown",
   "id": "8b59d6a3",
   "metadata": {},
   "source": [
    "30. Create a program that removes all non-numeric characters from a list of strings using list comprehension."
   ]
  },
  {
   "cell_type": "code",
   "execution_count": 10,
   "id": "0b764690",
   "metadata": {},
   "outputs": [
    {
     "name": "stdout",
     "output_type": "stream",
     "text": [
      "List of cleaned strings: ['123', '456', '789', '101']\n"
     ]
    }
   ],
   "source": [
    "import re\n",
    "\n",
    "# List of strings with non-numeric characters\n",
    "strings = [\"abc123\", \"456def\", \"ghi789\", \"101jkl\"]\n",
    "\n",
    "# Using list comprehension to remove all non-numeric characters\n",
    "cleaned_strings = [''.join(char for char in s if char.isdigit()) for s in strings]\n",
    "\n",
    "print(\"List of cleaned strings:\", cleaned_strings)\n"
   ]
  },
  {
   "cell_type": "code",
   "execution_count": null,
   "id": "32be3567",
   "metadata": {},
   "outputs": [],
   "source": []
  },
  {
   "cell_type": "code",
   "execution_count": null,
   "id": "63a124db",
   "metadata": {},
   "outputs": [],
   "source": []
  },
  {
   "cell_type": "code",
   "execution_count": null,
   "id": "fb68401d",
   "metadata": {},
   "outputs": [],
   "source": []
  },
  {
   "cell_type": "markdown",
   "id": "66a632f5",
   "metadata": {},
   "source": [
    "## Challenge Level:"
   ]
  },
  {
   "cell_type": "markdown",
   "id": "9851cc90",
   "metadata": {},
   "source": [
    "31. Write a program to generate a list of prime numbers using the Sieve of Eratosthenes algorithm and list\n",
    "comprehension."
   ]
  },
  {
   "cell_type": "code",
   "execution_count": 11,
   "id": "b133bf8b",
   "metadata": {},
   "outputs": [
    {
     "name": "stdout",
     "output_type": "stream",
     "text": [
      "Prime numbers up to 50 : [2, 3, 5, 7, 11, 13, 17, 19, 23, 29, 31, 37, 41, 43, 47]\n"
     ]
    }
   ],
   "source": [
    "def sieve_of_eratosthenes(limit):\n",
    "    # Create a boolean list to track prime status of numbers\n",
    "    is_prime = [True] * (limit + 1)\n",
    "    is_prime[0] = is_prime[1] = False  # 0 and 1 are not primes\n",
    "    \n",
    "    for start in range(2, int(limit**0.5) + 1):\n",
    "        if is_prime[start]:\n",
    "            for multiple in range(start*start, limit + 1, start):\n",
    "                is_prime[multiple] = False\n",
    "    \n",
    "    # Using list comprehension to extract the prime numbers\n",
    "    primes = [num for num, prime in enumerate(is_prime) if prime]\n",
    "    \n",
    "    return primes\n",
    "\n",
    "# Specify the limit\n",
    "limit = 50\n",
    "\n",
    "# Generate and print the list of prime numbers\n",
    "prime_numbers = sieve_of_eratosthenes(limit)\n",
    "print(\"Prime numbers up to\", limit, \":\", prime_numbers)\n"
   ]
  },
  {
   "cell_type": "markdown",
   "id": "1ce3b5b0",
   "metadata": {},
   "source": [
    "32. Create a program that generates a list of all Pythagorean triplets up to a specified limit using list\n",
    "comprehension."
   ]
  },
  {
   "cell_type": "code",
   "execution_count": 12,
   "id": "fdd35910",
   "metadata": {},
   "outputs": [
    {
     "name": "stdout",
     "output_type": "stream",
     "text": [
      "Pythagorean triplets up to 30 : [(3, 4, 5), (5, 12, 13), (6, 8, 10), (7, 24, 25), (8, 15, 17), (9, 12, 15), (10, 24, 26), (12, 16, 20), (15, 20, 25), (18, 24, 30), (20, 21, 29)]\n"
     ]
    }
   ],
   "source": [
    "# Function to generate Pythagorean triplets up to a specified limit\n",
    "def pythagorean_triplets(limit):\n",
    "    # List comprehension to find all triplets (a, b, c) where a^2 + b^2 = c^2\n",
    "    triplets = [\n",
    "        (a, b, c) \n",
    "        for a in range(1, limit + 1)\n",
    "        for b in range(a, limit + 1)  # Ensure b >= a to avoid duplicate triplets\n",
    "        for c in range(b, limit + 1)  # Ensure c >= b to maintain order\n",
    "        if a**2 + b**2 == c**2\n",
    "    ]\n",
    "    return triplets\n",
    "\n",
    "# Specify the limit\n",
    "limit = 30\n",
    "\n",
    "# Generate and print the list of Pythagorean triplets\n",
    "triplets_list = pythagorean_triplets(limit)\n",
    "print(\"Pythagorean triplets up to\", limit, \":\", triplets_list)\n"
   ]
  },
  {
   "cell_type": "markdown",
   "id": "c27b2e20",
   "metadata": {},
   "source": [
    "33. Develop a program that generates a list of all possible combinations of two lists using list comprehension."
   ]
  },
  {
   "cell_type": "code",
   "execution_count": 13,
   "id": "aa09bb87",
   "metadata": {},
   "outputs": [
    {
     "name": "stdout",
     "output_type": "stream",
     "text": [
      "Combinations of elements from the two lists: [(1, 'a'), (1, 'b'), (1, 'c'), (2, 'a'), (2, 'b'), (2, 'c'), (3, 'a'), (3, 'b'), (3, 'c')]\n"
     ]
    }
   ],
   "source": [
    "# Two lists\n",
    "list1 = [1, 2, 3]\n",
    "list2 = ['a', 'b', 'c']\n",
    "\n",
    "# Using list comprehension to generate all possible combinations\n",
    "combinations = [(x, y) for x in list1 for y in list2]\n",
    "\n",
    "print(\"Combinations of elements from the two lists:\", combinations)\n"
   ]
  },
  {
   "cell_type": "markdown",
   "id": "1365b150",
   "metadata": {},
   "source": [
    "34. Write a program that calculates the mean, median, and mode of a list of numbers using list\n",
    "comprehension."
   ]
  },
  {
   "cell_type": "code",
   "execution_count": 14,
   "id": "8bee27e2",
   "metadata": {},
   "outputs": [
    {
     "name": "stdout",
     "output_type": "stream",
     "text": [
      "Mean: 4.2\n",
      "Median: 4.5\n",
      "Mode: [5]\n"
     ]
    }
   ],
   "source": [
    "from collections import Counter\n",
    "import statistics\n",
    "\n",
    "# Function to calculate mean, median, and mode\n",
    "def calculate_statistics(numbers):\n",
    "    # Mean\n",
    "    mean = sum(numbers) / len(numbers)\n",
    "\n",
    "    # Median\n",
    "    median = statistics.median(numbers)\n",
    "\n",
    "    # Mode\n",
    "    counter = Counter(numbers)\n",
    "    mode = [num for num, count in counter.items() if count == max(counter.values())]\n",
    "\n",
    "    return mean, median, mode\n",
    "\n",
    "# List of numbers\n",
    "numbers = [1, 2, 3, 4, 4, 5, 5, 5, 6, 7]\n",
    "\n",
    "# Calculate mean, median, and mode\n",
    "mean, median, mode = calculate_statistics(numbers)\n",
    "\n",
    "print(\"Mean:\", mean)\n",
    "print(\"Median:\", median)\n",
    "print(\"Mode:\", mode)\n"
   ]
  },
  {
   "cell_type": "markdown",
   "id": "9a0d6613",
   "metadata": {},
   "source": [
    "35. Create a program that generates Pascal's triangle up to a specified number of rows using list\n",
    "comprehension."
   ]
  },
  {
   "cell_type": "code",
   "execution_count": 15,
   "id": "0a5f0e58",
   "metadata": {},
   "outputs": [
    {
     "name": "stdout",
     "output_type": "stream",
     "text": [
      "[1]\n",
      "[1, 1]\n",
      "[1, 2, 1]\n",
      "[1, 3, 3, 1]\n",
      "[1, 4, 6, 4, 1]\n"
     ]
    }
   ],
   "source": [
    "def generate_pascals_triangle(num_rows):\n",
    "    # Pascal's triangle starts with a single row [1]\n",
    "    triangle = [[1] * (i + 1) for i in range(num_rows)]\n",
    "    \n",
    "    # Compute the values for each row based on the previous row\n",
    "    for i in range(2, num_rows):\n",
    "        for j in range(1, i):\n",
    "            triangle[i][j] = triangle[i - 1][j - 1] + triangle[i - 1][j]\n",
    "    \n",
    "    return triangle\n",
    "\n",
    "# Specify the number of rows\n",
    "num_rows = 5\n",
    "\n",
    "# Generate Pascal's triangle and print it\n",
    "pascals_triangle = generate_pascals_triangle(num_rows)\n",
    "for row in pascals_triangle:\n",
    "    print(row)\n"
   ]
  },
  {
   "cell_type": "markdown",
   "id": "804b5492",
   "metadata": {},
   "source": [
    "36. Develop a program that calculates the sum of the digits of a factorial of numbers from 1 to 5 using list\n",
    "comprehension."
   ]
  },
  {
   "cell_type": "code",
   "execution_count": 16,
   "id": "14ec160d",
   "metadata": {},
   "outputs": [
    {
     "name": "stdout",
     "output_type": "stream",
     "text": [
      "Sum of the digits of factorials from 1 to 5: [1, 2, 6, 6, 3]\n"
     ]
    }
   ],
   "source": [
    "import math\n",
    "\n",
    "# Function to calculate the sum of digits of a number\n",
    "def sum_of_digits(n):\n",
    "    return sum(int(digit) for digit in str(n))\n",
    "\n",
    "# List comprehension to calculate the sum of digits of factorials from 1 to 5\n",
    "sum_digits_factorials = [sum_of_digits(math.factorial(i)) for i in range(1, 6)]\n",
    "\n",
    "print(\"Sum of the digits of factorials from 1 to 5:\", sum_digits_factorials)\n"
   ]
  },
  {
   "cell_type": "markdown",
   "id": "2b7eec22",
   "metadata": {},
   "source": [
    "37. Write a program that finds the longest word in a sentence using list comprehension."
   ]
  },
  {
   "cell_type": "code",
   "execution_count": 17,
   "id": "9763a4fd",
   "metadata": {},
   "outputs": [
    {
     "name": "stdout",
     "output_type": "stream",
     "text": [
      "The longest word is: quick\n"
     ]
    }
   ],
   "source": [
    "# Function to find the longest word in a sentence\n",
    "def longest_word(sentence):\n",
    "    words = sentence.split()\n",
    "    longest = max(words, key=len)\n",
    "    return longest\n",
    "\n",
    "# Input sentence\n",
    "sentence = \"The quick brown fox jumps over the lazy dog\"\n",
    "\n",
    "# Find and print the longest word\n",
    "longest = longest_word(sentence)\n",
    "print(\"The longest word is:\", longest)\n"
   ]
  },
  {
   "cell_type": "markdown",
   "id": "345715b5",
   "metadata": {},
   "source": [
    "38. Create a program that filters a list of strings to include only those with more than three vowels using list\n",
    "comprehension."
   ]
  },
  {
   "cell_type": "code",
   "execution_count": 18,
   "id": "23f8c104",
   "metadata": {},
   "outputs": [
    {
     "name": "stdout",
     "output_type": "stream",
     "text": [
      "Strings with more than three vowels: ['beautiful']\n"
     ]
    }
   ],
   "source": [
    "# Function to count the number of vowels in a string\n",
    "def count_vowels(s):\n",
    "    vowels = 'aeiou'\n",
    "    return sum(1 for char in s.lower() if char in vowels)\n",
    "\n",
    "# List of strings\n",
    "strings = [\"hello\", \"beautiful\", \"world\", \"python\", \"example\"]\n",
    "\n",
    "# Using list comprehension to filter strings with more than three vowels\n",
    "filtered_strings = [s for s in strings if count_vowels(s) > 3]\n",
    "\n",
    "print(\"Strings with more than three vowels:\", filtered_strings)\n"
   ]
  },
  {
   "cell_type": "markdown",
   "id": "4d533af5",
   "metadata": {},
   "source": [
    "39. Develop a program that calculates the sum of the digits of numbers from 1 to 1000 using list\n",
    "comprehension."
   ]
  },
  {
   "cell_type": "code",
   "execution_count": 1,
   "id": "3101db47",
   "metadata": {},
   "outputs": [
    {
     "name": "stdout",
     "output_type": "stream",
     "text": [
      "13501\n"
     ]
    }
   ],
   "source": [
    "sum_of_digits = sum(sum(int(digit) for digit in str(num)) for num in range(1, 1001))\n",
    "\n",
    "print(sum_of_digits)\n"
   ]
  },
  {
   "cell_type": "markdown",
   "id": "040d18bf",
   "metadata": {},
   "source": [
    "40. Write a program that generates a list of prime palindromic numbers using list comprehension."
   ]
  },
  {
   "cell_type": "code",
   "execution_count": 2,
   "id": "a029f3a3",
   "metadata": {},
   "outputs": [
    {
     "name": "stdout",
     "output_type": "stream",
     "text": [
      "[2, 3, 5, 7, 11, 101, 131, 151, 181, 191, 313, 353, 373, 383, 727, 757, 787, 797, 919, 929]\n"
     ]
    }
   ],
   "source": [
    "# Function to check if a number is prime\n",
    "def is_prime(n):\n",
    "    if n < 2:\n",
    "        return False\n",
    "    for i in range(2, int(n ** 0.5) + 1):\n",
    "        if n % i == 0:\n",
    "            return False\n",
    "    return True\n",
    "\n",
    "# Function to check if a number is a palindrome\n",
    "def is_palindrome(n):\n",
    "    return str(n) == str(n)[::-1]\n",
    "\n",
    "# Generate list of prime palindromic numbers using list comprehension\n",
    "prime_palindromes = [num for num in range(2, 1000) if is_prime(num) and is_palindrome(num)]\n",
    "\n",
    "print(prime_palindromes)\n"
   ]
  },
  {
   "cell_type": "code",
   "execution_count": null,
   "id": "45c27b6f",
   "metadata": {},
   "outputs": [],
   "source": []
  },
  {
   "cell_type": "code",
   "execution_count": null,
   "id": "8ea89d3f",
   "metadata": {},
   "outputs": [],
   "source": []
  }
 ],
 "metadata": {
  "kernelspec": {
   "display_name": "Python 3 (ipykernel)",
   "language": "python",
   "name": "python3"
  },
  "language_info": {
   "codemirror_mode": {
    "name": "ipython",
    "version": 3
   },
   "file_extension": ".py",
   "mimetype": "text/x-python",
   "name": "python",
   "nbconvert_exporter": "python",
   "pygments_lexer": "ipython3",
   "version": "3.9.13"
  }
 },
 "nbformat": 4,
 "nbformat_minor": 5
}
